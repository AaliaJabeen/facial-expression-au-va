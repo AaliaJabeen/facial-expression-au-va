{
 "cells": [
  {
   "cell_type": "markdown",
   "id": "88e4f5b4",
   "metadata": {},
   "source": [
    "### Settings ISI project path as the absolute path, so that import functions will work for the files."
   ]
  },
  {
   "cell_type": "code",
   "execution_count": null,
   "id": "e5f9cc18",
   "metadata": {},
   "outputs": [],
   "source": [
    "import sys\n",
    "import os\n",
    "sys.path.append(os.path.abspath(os.path.join(os.getcwd(), \"..\")))"
   ]
  },
  {
   "cell_type": "markdown",
   "id": "8895aea7",
   "metadata": {},
   "source": [
    "### Generating a list of class_names so that will be used to train and test model"
   ]
  },
  {
   "cell_type": "code",
   "execution_count": null,
   "id": "1dcfa27c",
   "metadata": {},
   "outputs": [],
   "source": [
    "from utils.preprocess import get_dataloaders\n",
    "\n",
    "train_loader, test_loader, class_names = get_dataloaders()\n",
    "print(class_names)  # ['angry', 'disgust', 'fear', 'happy', 'sad', 'surprise', 'neutral']\n"
   ]
  },
  {
   "cell_type": "markdown",
   "id": "db783b9c",
   "metadata": {},
   "source": [
    "### Training model by settings the epoch value to 10, it can be increased to make it more efficient"
   ]
  },
  {
   "cell_type": "code",
   "execution_count": null,
   "id": "c18a605b",
   "metadata": {},
   "outputs": [
    {
     "name": "stdout",
     "output_type": "stream",
     "text": [
      "Epoch 1/50 | Loss: 1482.0131 | Accuracy: 34.41%\n",
      "Epoch 2/50 | Loss: 1300.6688 | Accuracy: 44.06%\n",
      "Epoch 3/50 | Loss: 1203.7961 | Accuracy: 48.15%\n",
      "Epoch 4/50 | Loss: 1124.8808 | Accuracy: 51.96%\n",
      "Epoch 5/50 | Loss: 1054.7423 | Accuracy: 55.71%\n",
      "Epoch 6/50 | Loss: 990.4159 | Accuracy: 58.67%\n",
      "Epoch 7/50 | Loss: 926.5221 | Accuracy: 61.51%\n",
      "Epoch 8/50 | Loss: 867.1499 | Accuracy: 64.15%\n",
      "Epoch 9/50 | Loss: 807.8240 | Accuracy: 67.03%\n",
      "Epoch 10/50 | Loss: 750.0900 | Accuracy: 69.33%\n",
      "Epoch 11/50 | Loss: 698.3941 | Accuracy: 71.36%\n",
      "Epoch 12/50 | Loss: 643.6269 | Accuracy: 73.71%\n",
      "Epoch 13/50 | Loss: 592.2962 | Accuracy: 76.00%\n",
      "Epoch 14/50 | Loss: 542.3959 | Accuracy: 78.07%\n",
      "Epoch 15/50 | Loss: 496.6200 | Accuracy: 79.83%\n",
      "Epoch 16/50 | Loss: 447.7706 | Accuracy: 81.97%\n",
      "Epoch 17/50 | Loss: 408.7005 | Accuracy: 83.76%\n",
      "Epoch 18/50 | Loss: 370.8716 | Accuracy: 85.23%\n",
      "Epoch 19/50 | Loss: 333.0096 | Accuracy: 86.94%\n",
      "Epoch 20/50 | Loss: 298.3669 | Accuracy: 88.12%\n",
      "Epoch 21/50 | Loss: 264.8516 | Accuracy: 89.84%\n",
      "Epoch 22/50 | Loss: 243.4740 | Accuracy: 90.66%\n",
      "Epoch 23/50 | Loss: 221.2879 | Accuracy: 91.65%\n",
      "Epoch 24/50 | Loss: 200.1854 | Accuracy: 92.30%\n",
      "Epoch 25/50 | Loss: 181.1227 | Accuracy: 92.97%\n",
      "Epoch 26/50 | Loss: 174.2923 | Accuracy: 93.44%\n",
      "Epoch 27/50 | Loss: 163.1068 | Accuracy: 93.82%\n",
      "Epoch 28/50 | Loss: 143.0296 | Accuracy: 94.76%\n",
      "Epoch 29/50 | Loss: 137.9221 | Accuracy: 94.85%\n",
      "Epoch 30/50 | Loss: 131.9001 | Accuracy: 95.21%\n",
      "Epoch 31/50 | Loss: 120.7364 | Accuracy: 95.56%\n",
      "Epoch 32/50 | Loss: 119.4250 | Accuracy: 95.58%\n",
      "Epoch 33/50 | Loss: 112.2499 | Accuracy: 95.92%\n",
      "Epoch 34/50 | Loss: 97.0358 | Accuracy: 96.61%\n",
      "Epoch 35/50 | Loss: 105.9711 | Accuracy: 96.17%\n",
      "Epoch 36/50 | Loss: 111.1180 | Accuracy: 96.05%\n",
      "Epoch 37/50 | Loss: 87.9498 | Accuracy: 96.84%\n",
      "Epoch 38/50 | Loss: 88.2083 | Accuracy: 96.89%\n",
      "Epoch 39/50 | Loss: 104.7437 | Accuracy: 96.19%\n",
      "Epoch 40/50 | Loss: 77.9165 | Accuracy: 97.36%\n",
      "Epoch 41/50 | Loss: 90.6680 | Accuracy: 96.78%\n",
      "Epoch 42/50 | Loss: 85.3616 | Accuracy: 96.99%\n",
      "Epoch 43/50 | Loss: 88.2814 | Accuracy: 96.91%\n",
      "Epoch 44/50 | Loss: 82.5853 | Accuracy: 97.28%\n",
      "Epoch 45/50 | Loss: 69.3158 | Accuracy: 97.83%\n",
      "Epoch 46/50 | Loss: 85.1118 | Accuracy: 97.16%\n",
      "Epoch 47/50 | Loss: 77.1137 | Accuracy: 97.34%\n",
      "Epoch 48/50 | Loss: 75.0022 | Accuracy: 97.31%\n",
      "Epoch 49/50 | Loss: 80.9147 | Accuracy: 97.24%\n",
      "Epoch 50/50 | Loss: 73.8630 | Accuracy: 97.54%\n"
     ]
    }
   ],
   "source": [
    "import torch\n",
    "import torch.nn as nn\n",
    "import torch.optim as optim\n",
    "from models.cnn_model import EmotionCNN\n",
    "from utils.preprocess import get_dataloaders\n",
    "\n",
    "# Setup\n",
    "device = torch.device(\"cuda\" if torch.cuda.is_available() else \"cpu\")\n",
    "train_loader, test_loader, class_names = get_dataloaders()\n",
    "\n",
    "# Initialize model\n",
    "model = EmotionCNN(num_classes=7).to(device)\n",
    "criterion = nn.CrossEntropyLoss()\n",
    "optimizer = optim.Adam(model.parameters(), lr=0.001)\n",
    "\n",
    "# Train\n",
    "EPOCHS = 10\n",
    "for epoch in range(EPOCHS):\n",
    "    model.train()\n",
    "    running_loss, correct, total = 0, 0, 0\n",
    "\n",
    "    for images, labels in train_loader:\n",
    "        images, labels = images.to(device), labels.to(device)\n",
    "\n",
    "        optimizer.zero_grad()\n",
    "        outputs = model(images)\n",
    "        loss = criterion(outputs, labels)\n",
    "        loss.backward()\n",
    "        optimizer.step()\n",
    "\n",
    "        running_loss += loss.item()\n",
    "        _, predicted = torch.max(outputs, 1)\n",
    "        total += labels.size(0)\n",
    "        correct += (predicted == labels).sum().item()\n",
    "\n",
    "    acc = 100 * correct / total\n",
    "    print(f\"Epoch {epoch+1}/{EPOCHS} | Loss: {running_loss:.4f} | Accuracy: {acc:.2f}%\")\n",
    "\n",
    "torch.save(model.state_dict(), \"../models/emotion_cnn.pth\")"
   ]
  }
 ],
 "metadata": {
  "kernelspec": {
   "display_name": ".venv",
   "language": "python",
   "name": "python3"
  },
  "language_info": {
   "codemirror_mode": {
    "name": "ipython",
    "version": 3
   },
   "file_extension": ".py",
   "mimetype": "text/x-python",
   "name": "python",
   "nbconvert_exporter": "python",
   "pygments_lexer": "ipython3",
   "version": "3.10.12"
  }
 },
 "nbformat": 4,
 "nbformat_minor": 5
}
