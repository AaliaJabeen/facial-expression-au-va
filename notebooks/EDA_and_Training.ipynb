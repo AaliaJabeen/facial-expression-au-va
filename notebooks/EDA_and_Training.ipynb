{
 "cells": [
  {
   "cell_type": "code",
   "execution_count": 7,
   "id": "3421b092",
   "metadata": {},
   "outputs": [],
   "source": [
    "torch.save(model.state_dict(), \"../models/emotion_cnn.pth\")"
   ]
  },
  {
   "cell_type": "code",
   "execution_count": 4,
   "id": "c18a605b",
   "metadata": {},
   "outputs": [
    {
     "name": "stdout",
     "output_type": "stream",
     "text": [
      "Epoch 1/10 | Loss: 1472.4146 | Accuracy: 35.02%\n",
      "Epoch 2/10 | Loss: 1306.5891 | Accuracy: 44.01%\n",
      "Epoch 3/10 | Loss: 1223.8229 | Accuracy: 47.44%\n",
      "Epoch 4/10 | Loss: 1160.3353 | Accuracy: 50.33%\n",
      "Epoch 5/10 | Loss: 1107.2230 | Accuracy: 53.24%\n",
      "Epoch 6/10 | Loss: 1053.4591 | Accuracy: 55.02%\n",
      "Epoch 7/10 | Loss: 1002.9128 | Accuracy: 57.55%\n",
      "Epoch 8/10 | Loss: 952.2237 | Accuracy: 60.05%\n",
      "Epoch 9/10 | Loss: 901.5456 | Accuracy: 62.36%\n",
      "Epoch 10/10 | Loss: 856.3678 | Accuracy: 64.12%\n"
     ]
    }
   ],
   "source": [
    "import torch\n",
    "import torch.nn as nn\n",
    "import torch.optim as optim\n",
    "from models.cnn_model import EmotionCNN\n",
    "from utils.preprocess import get_dataloaders\n",
    "\n",
    "# Setup\n",
    "device = torch.device(\"cuda\" if torch.cuda.is_available() else \"cpu\")\n",
    "train_loader, test_loader, class_names = get_dataloaders()\n",
    "\n",
    "# Initialize model\n",
    "model = EmotionCNN(num_classes=7).to(device)\n",
    "criterion = nn.CrossEntropyLoss()\n",
    "optimizer = optim.Adam(model.parameters(), lr=0.001)\n",
    "\n",
    "# Train\n",
    "EPOCHS = 10\n",
    "for epoch in range(EPOCHS):\n",
    "    model.train()\n",
    "    running_loss, correct, total = 0, 0, 0\n",
    "\n",
    "    for images, labels in train_loader:\n",
    "        images, labels = images.to(device), labels.to(device)\n",
    "\n",
    "        optimizer.zero_grad()\n",
    "        outputs = model(images)\n",
    "        loss = criterion(outputs, labels)\n",
    "        loss.backward()\n",
    "        optimizer.step()\n",
    "\n",
    "        running_loss += loss.item()\n",
    "        _, predicted = torch.max(outputs, 1)\n",
    "        total += labels.size(0)\n",
    "        correct += (predicted == labels).sum().item()\n",
    "\n",
    "    acc = 100 * correct / total\n",
    "    print(f\"Epoch {epoch+1}/{EPOCHS} | Loss: {running_loss:.4f} | Accuracy: {acc:.2f}%\")\n"
   ]
  },
  {
   "cell_type": "code",
   "execution_count": 1,
   "id": "d3021bb7",
   "metadata": {},
   "outputs": [
    {
     "name": "stdout",
     "output_type": "stream",
     "text": [
      "['angry', 'disgust', 'fear', 'happy', 'neutral', 'sad', 'surprise']\n"
     ]
    }
   ],
   "source": [
    "from utils.preprocess import get_dataloaders\n",
    "\n",
    "train_loader, test_loader, class_names = get_dataloaders()\n",
    "print(class_names)  # ['angry', 'disgust', 'fear', 'happy', 'sad', 'surprise', 'neutral']\n"
   ]
  }
 ],
 "metadata": {
  "kernelspec": {
   "display_name": "isi",
   "language": "python",
   "name": "python3"
  },
  "language_info": {
   "codemirror_mode": {
    "name": "ipython",
    "version": 3
   },
   "file_extension": ".py",
   "mimetype": "text/x-python",
   "name": "python",
   "nbconvert_exporter": "python",
   "pygments_lexer": "ipython3",
   "version": "3.13.5"
  }
 },
 "nbformat": 4,
 "nbformat_minor": 5
}
